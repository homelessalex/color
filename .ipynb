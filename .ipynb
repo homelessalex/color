{
  "nbformat": 4,
  "nbformat_minor": 0,
  "metadata": {
    "colab": {
      "provenance": [],
      "authorship_tag": "ABX9TyMHh+WxiHyW9DY+Z56doiVG"
    },
    "kernelspec": {
      "name": "python3",
      "display_name": "Python 3"
    },
    "language_info": {
      "name": "python"
    }
  },
  "cells": [
    {
      "cell_type": "markdown",
      "source": [],
      "metadata": {
        "id": "ZtvYumj8mSC6"
      }
    },
    {
      "cell_type": "markdown",
      "source": [
        "замеры\n",
        "\n"
      ],
      "metadata": {
        "id": "xyHMAxaymZKH"
      }
    },
    {
      "cell_type": "code",
      "source": [
        "print(\"film=[\",((\"[], \\n\")*24),\"]\")"
      ],
      "metadata": {
        "colab": {
          "base_uri": "https://localhost:8080/"
        },
        "id": "2NHnhgtgmoc1",
        "outputId": "29b9a672-a87f-4871-c8b4-f57f515e024e"
      },
      "execution_count": null,
      "outputs": [
        {
          "output_type": "stream",
          "name": "stdout",
          "text": [
            "film=[ [], \n",
            "[], \n",
            "[], \n",
            "[], \n",
            "[], \n",
            "[], \n",
            "[], \n",
            "[], \n",
            "[], \n",
            "[], \n",
            "[], \n",
            "[], \n",
            "[], \n",
            "[], \n",
            "[], \n",
            "[], \n",
            "[], \n",
            "[], \n",
            "[], \n",
            "[], \n",
            "[], \n",
            "[], \n",
            "[], \n",
            "[], \n",
            " ]\n"
          ]
        }
      ]
    },
    {
      "cell_type": "code",
      "source": [
        "film=[ [108, 44, 20],\n",
        "[235, 171, 149],\n",
        "[113, 162, 204],\n",
        "[71, 94, 28],\n",
        "[173, 178, 217],\n",
        "[152, 230, 215],\n",
        "\n",
        "[252, 115, 17],\n",
        "[73, 127, 228],\n",
        "[252, 80, 96],\n",
        "[88, 43, 102],\n",
        "[171, 210, 59],\n",
        "[254, 183, 43],\n",
        "\n",
        "[13, 67, 194],\n",
        "[54, 176, 47],\n",
        "[251, 14, 14],\n",
        "[254, 233, 33],\n",
        "[247, 134, 188],\n",
        "[61, 200, 232],\n",
        "\n",
        "[250, 250, 251],\n",
        "[227, 229, 230],\n",
        "[195, 196, 196],\n",
        "[145, 143, 138],\n",
        "[59, 60, 54],\n",
        "[5, 5, 4]\n",
        "\n",
        " ]\n",
        "\n",
        "digital=[ [128, 68, 35],\n",
        "[232, 177, 155],\n",
        "[81, 147, 195],\n",
        "[80, 122, 41],\n",
        "[161, 156, 210],\n",
        "[95, 221, 218],\n",
        "\n",
        "[247, 146, 10],\n",
        "[23, 92, 204],\n",
        "[233, 74, 72],\n",
        "[78, 21, 106],\n",
        "[187, 221, 54],\n",
        "[246, 190, 9],\n",
        "\n",
        "[0, 25, 174],\n",
        "[47, 180, 80],\n",
        "[217, 0, 4],\n",
        "[253, 228, 10],\n",
        "[223, 78, 172],\n",
        "[20, 159, 208],\n",
        "\n",
        "[248, 250, 250],\n",
        "[226, 229, 233],\n",
        "[191, 195, 200],\n",
        "[134, 141, 143],\n",
        "[60, 70, 74],\n",
        "[2, 4, 4],\n",
        " ]"
      ],
      "metadata": {
        "id": "tdY_FAJuoklV"
      },
      "execution_count": 1,
      "outputs": []
    },
    {
      "cell_type": "code",
      "execution_count": 2,
      "metadata": {
        "id": "g8fJe_SzSaoN"
      },
      "outputs": [],
      "source": [
        "import cv2 #  computer vision\n",
        "from google.colab.patches import cv2_imshow\n",
        "\n",
        "import numpy as np # matrix math\n",
        "from matplotlib import pyplot as plt # Plotting software to help us visualize some things\n",
        "\n",
        "from sklearn.preprocessing import PolynomialFeatures  # making math equations\n",
        "from sklearn.linear_model import LinearRegression\n",
        "from sklearn.metrics import mean_squared_error, r2_score # solving math equations\n"
      ]
    },
    {
      "cell_type": "code",
      "source": [
        "\n",
        "degreesA = 1  # <<====  Number of Polynomial degrees.  1 Recommended. 2 Max.\n",
        "right=film\n",
        "wrong=digital\n",
        "\n",
        "\n",
        "\n",
        "\n",
        "\n",
        "\n",
        "\n",
        "\n",
        "\n",
        "\n",
        "\n",
        "\n",
        "\n",
        "degreesA = 1  # <<====  Number of Polynomial degrees.  1 Recommended. 2 Max.\n",
        "\n",
        "poly={}\n",
        "colors = [\"Red\",\"Green\",\"Blue\"]\n",
        "xp = np.linspace(0, 255, 255)\n",
        "for rgb in range(3):\n",
        "  www = np.ravel(wrong)[rgb::3]\n",
        "  rrr = np.ravel(right)[rgb::3]\n",
        "\n",
        "  poly[rgb] = np.polyfit(www, rrr, degreesA)\n",
        "  p = np.poly1d(poly[rgb])\n",
        "\n",
        "\n",
        "  delta = p(rrr) - p(www)\n",
        "  power = np.power(delta,2)\n",
        "  mean = np.mean(power)\n",
        "  final = np.sqrt(mean)\n",
        "  print(colors[rgb],\"error:\",final)\n",
        "  plt.subplot(3,1,rgb+1)\n",
        "  _ = plt.plot(www, rrr, '.', xp, xp, '-', xp, p(xp), '--')\n",
        "  plt.ylim(0,255)\n",
        "  plt.show()\n",
        "  if (final>30):\n",
        "     print(\"\\t ^ High number implies result is not that optimized\")\n",
        "  print()\n"
      ],
      "metadata": {
        "colab": {
          "base_uri": "https://localhost:8080/",
          "height": 580
        },
        "id": "RptlqIxkXdS-",
        "outputId": "1c74d211-0b89-4f64-def7-4c49108ce894"
      },
      "execution_count": 3,
      "outputs": [
        {
          "output_type": "stream",
          "name": "stdout",
          "text": [
            "Red error: 21.096419552175178\n"
          ]
        },
        {
          "output_type": "display_data",
          "data": {
            "text/plain": [
              "<Figure size 640x480 with 1 Axes>"
            ],
            "image/png": "[encoded data removed]"
          },
          "metadata": {}
        },
        {
          "output_type": "stream",
          "name": "stdout",
          "text": [
            "\n",
            "Green error: 20.61875598143481\n"
          ]
        },
        {
          "output_type": "display_data",
          "data": {
            "text/plain": [
              "<Figure size 640x480 with 1 Axes>"
            ],
            "image/png": "[encoded data removed]"
          },
          "metadata": {}
        },
        {
          "output_type": "stream",
          "name": "stdout",
          "text": [
            "\n",
            "Blue error: 16.400514411891823\n"
          ]
        },
        {
          "output_type": "display_data",
          "data": {
            "text/plain": [
              "<Figure size 640x480 with 1 Axes>"
            ],
            "image/png": "[encoded data removed]"
          },
          "metadata": {}
        },
        {
          "output_type": "stream",
          "name": "stdout",
          "text": [
            "\n"
          ]
        }
      ]
    },
    {
      "cell_type": "code",
      "source": [
        "degreesB=2  ## 2 or 3 only. 3 can lead to overfitting. 2 recommend for most users.\n",
        "\n",
        "## Create more data points using previous step's function; this will help prevent overfitting with our next step.\n",
        "\n",
        "grid = np.linspace(0,255, 2)\n",
        "rainbow = np.zeros((len(grid)*len(grid)*len(grid),3))\n",
        "counter = 0\n",
        "for r in grid:\n",
        "  for g in grid:\n",
        "    for b in grid:\n",
        "      rainbow[counter,0]=r\n",
        "      rainbow[counter,1]=g\n",
        "      rainbow[counter,2]=b\n",
        "      counter+=1\n",
        "\n",
        "wrong0 = np.vstack((wrong,rainbow))\n",
        "\n",
        "for rgb in range(3):\n",
        "  p = np.poly1d(poly[rgb])\n",
        "  print(colors[rgb],\"Pre-Process range:\",int(np.min(rainbow[:,rgb])),\"-\",int(np.max(rainbow[:,rgb])))\n",
        "  rainbow[:,rgb] = p(rainbow[:,rgb])\n",
        "  print(colors[rgb],\"Post-Process range:\",int(np.min(rainbow[:,rgb])),\"-\",int(np.max(rainbow[:,rgb])))\n",
        "  print()\n",
        "\n",
        "\n",
        "right0 = np.vstack((right,rainbow))\n",
        "\n",
        "r1 = np.ravel(wrong0)[0::3].astype(np.float32, copy=False)  # wrong\n",
        "g1 = np.ravel(wrong0)[1::3].astype(np.float32, copy=False)\n",
        "b1 = np.ravel(wrong0)[2::3].astype(np.float32, copy=False)\n",
        "\n",
        "r0 = np.ravel(right0)[0::3].astype(np.float32, copy=False)  # right\n",
        "g0 = np.ravel(right0)[1::3].astype(np.float32, copy=False)\n",
        "b0 = np.ravel(right0)[2::3].astype(np.float32, copy=False)\n",
        "\n",
        "rgb = np.array([r1,g1,b1])\n",
        "coes = {}\n",
        "\n",
        "## FIT THE DATA TO OUR MULTIVARIATE FUNCTIONS\n",
        "def polyfit3d(rgb,pp,x0):\n",
        "    degrees = [(i, j, k) for i in range(pp) for j in range(pp) for k in range(pp)]  # list of monomials x**i * y**j to use\n",
        "    matrix = np.stack([np.prod(rgb.T**d, axis=1) for d in degrees], axis=-1)   # stack monomials like columns\n",
        "    coeff = np.linalg.lstsq(matrix, x0)[0]    # lstsq returns some additional info we ignore\n",
        "    #print(\"Coefficients\", coeff)    # in the same order as the monomials listed in \"degrees\"\n",
        "    fit = np.dot(matrix, coeff)\n",
        "    #print(np.sqrt(np.mean((x0-fit)**2)))  ## error\n",
        "    return coeff\n",
        "\n",
        "## PREDICT / SOLVE the function for our input data (getting our target data)\n",
        "def poly3d(rgb,coeff,pp):\n",
        "    degrees = [(i, j, k) for i in range(pp) for j in range(pp) for k in range(pp)]  # list of monomials x**i * y**j to use\n",
        "    matrix = np.stack([np.prod(rgb.T**d, axis=1) for d in degrees], axis=-1)   # stack monomials like columns\n",
        "    fit = np.dot(matrix, coeff)\n",
        "    return fit\n",
        "\n",
        "## Generate and Save the functions; one function for each color type\n",
        "coes[0] = polyfit3d(rgb,degreesB,r0)\n",
        "coes[1] = polyfit3d(rgb,degreesB,g0)\n",
        "coes[2] = polyfit3d(rgb,degreesB,b0)\n",
        "\n",
        "\n",
        "## PLOT DATA POINTS FOR ANALYSIS\n",
        "\n",
        "rgb0 = np.array([poly3d(rgb,coes[0],degreesB),poly3d(rgb,coes[1],degreesB), poly3d(rgb,coes[2],degreesB)])\n",
        "\n",
        "from mpl_toolkits.mplot3d import axes3d\n",
        "import scipy as sp\n",
        "import scipy.interpolate\n",
        "\n",
        "fig = plt.figure(figsize=(12,6))\n",
        "ax = axes3d.Axes3D(fig)\n",
        "\n",
        "for i in range(len(rgb[0])):\n",
        "    ax.plot(  [rgb[0,i],rgb0[0,i]],  [rgb[1,i],rgb0[1,i]],  [rgb[2,i],rgb0[2,i]],  'ro-')\n",
        "\n",
        "ax.scatter3D(rgb0[0],rgb0[1],rgb0[2], c='g')\n",
        "ax.scatter3D(rgb[0],rgb[1],rgb[2], c='b')\n",
        "\n",
        "# The graph reflects the transformation of each RGB colour value\n",
        "\n",
        "\n",
        "def applyLUT(image):\n",
        "  assert(image.dtype == \"float32\")\n",
        "  for rgb in range(3):\n",
        "    p = np.poly1d(poly[rgb])\n",
        "    print(\"PRE range:\",np.min(image[:,:,rgb]),\"-\",np.max(image[:,:,rgb]))\n",
        "    image[:,:,rgb] = p(image[:,:,rgb])\n",
        "    print(\"POST range:\",np.min(image[:,:,rgb]),\"-\",np.max(image[:,:,rgb]))\n",
        "    print()\n",
        "  return image\n",
        "\n",
        "def applyLUT2(image,pp):\n",
        "  sss = np.shape(image[:,:,0])\n",
        "  rgb = image.reshape(-1,3).T\n",
        "  print(np.shape(rgb))\n",
        "  Zr = poly3d(rgb,coes[0],pp).reshape(sss)\n",
        "  Zg = poly3d(rgb,coes[1],pp).reshape(sss)\n",
        "  Zb = poly3d(rgb,coes[2],pp).reshape(sss)\n",
        "  image[:,:,0] = Zr\n",
        "  image[:,:,1] = Zg\n",
        "  image[:,:,2] = Zb\n",
        "  return image\n",
        "\n",
        "\n",
        "\n",
        "#img = applyLUT(img) + mb  ## You can disable applyLUT2 and enable this function instead if you are having problems"
      ],
      "metadata": {
        "colab": {
          "base_uri": "https://localhost:8080/",
          "height": 269
        },
        "id": "j5dGDskDc4Y1",
        "outputId": "6ba8be0e-d72b-4d40-fa06-79c879788bad"
      },
      "execution_count": 4,
      "outputs": [
        {
          "output_type": "stream",
          "name": "stdout",
          "text": [
            "Red Pre-Process range: 0 - 255\n",
            "Red Post-Process range: 20 - 260\n",
            "\n",
            "Green Pre-Process range: 0 - 255\n",
            "Green Post-Process range: 16 - 251\n",
            "\n",
            "Blue Pre-Process range: 0 - 255\n",
            "Blue Post-Process range: 3 - 260\n",
            "\n"
          ]
        },
        {
          "output_type": "stream",
          "name": "stderr",
          "text": [
            "<ipython-input-4-c0561754b871>:43: FutureWarning: `rcond` parameter will change to the default of machine precision times ``max(M, N)`` where M and N are the input matrix dimensions.\n",
            "To use the future default and silence this warning we advise to pass `rcond=None`, to keep using the old, explicitly pass `rcond=-1`.\n",
            "  coeff = np.linalg.lstsq(matrix, x0)[0]    # lstsq returns some additional info we ignore\n"
          ]
        },
        {
          "output_type": "display_data",
          "data": {
            "text/plain": [
              "<Figure size 1200x600 with 0 Axes>"
            ]
          },
          "metadata": {}
        }
      ]
    },
    {
      "cell_type": "code",
      "source": [
        "ls=64 # lut size ; 33 is also a common option\n",
        "\n",
        "r=0\n",
        "g=0\n",
        "b=0\n",
        "img = np.zeros((ls*ls*ls,3), np.float32)\n",
        "\n",
        "for x in range(0,ls*ls*ls): # create a neutral LUT first\n",
        "    if r>=ls:\n",
        "        r=0\n",
        "        g+=1\n",
        "    if g>=ls:\n",
        "        g=0\n",
        "        b+=1\n",
        "    img[x,0]=1/(ls-1)*r\n",
        "    img[x,1]=1/(ls-1)*g\n",
        "    img[x,2]=1/(ls-1)*b\n",
        "    r+=1\n",
        "\n",
        "img = img.reshape((-1,ls*ls,3))\n",
        "lutimg = applyLUT2(img*255.0, degreesB)# apply the basic color correction\n",
        "\n",
        "img = lutimg/255.0\n",
        "img = img.reshape((-1,3))\n",
        "\n",
        "with open('r.cube', 'w') as the_file: # save the CUBE LUT to this colab folder I guess\n",
        "    the_file.write(\"LUT_3D_SIZE \"+str(ls)+\"\\n\")\n",
        "    for x in range(ls*ls*ls):\n",
        "        the_file.write(\"{:1.6f}\".format(img[x,0])+\" \"+\"{:1.6f}\".format(img[x,1])+\" \"+\"{:1.6f}\".format(img[x,2])+'\\n')\n"
      ],
      "metadata": {
        "colab": {
          "base_uri": "https://localhost:8080/"
        },
        "id": "jh12Dvs63mOP",
        "outputId": "66495c73-d4be-4740-e5a5-e3a28ad0cba4"
      },
      "execution_count": 5,
      "outputs": [
        {
          "output_type": "stream",
          "name": "stdout",
          "text": [
            "(3, 262144)\n"
          ]
        }
      ]
    },
    {
      "cell_type": "markdown",
      "source": [
        "# Новый раздел"
      ],
      "metadata": {
        "id": "ChSet8RcsmBk"
      }
    }
  ]
}